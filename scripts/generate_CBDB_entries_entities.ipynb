{
  "cells": [
    {
      "cell_type": "code",
      "execution_count": 1,
      "metadata": {
        "colab": {
          "base_uri": "https://localhost:8080/"
        },
        "id": "Ne5fZvGSRMx2",
        "outputId": "6281a016-5862-4653-f55a-e92d6d0a3031"
      },
      "outputs": [
        {
          "name": "stdout",
          "output_type": "stream",
          "text": [
            "Cloning into 'cbdb_sqlite'...\n",
            "remote: Enumerating objects: 31, done.\u001b[K\n",
            "remote: Counting objects: 100% (9/9), done.\u001b[K\n",
            "remote: Compressing objects: 100% (6/6), done.\u001b[K\n",
            "remote: Total 31 (delta 3), reused 9 (delta 3), pack-reused 22\u001b[K\n",
            "Unpacking objects: 100% (31/31), done.\n"
          ]
        }
      ],
      "source": [
        "import requests\n",
        "import os\n",
        "url = \"https://huggingface.co/datasets/cbdb/cbdb-sqlite/resolve/main/latest.7z?download=true\"\n",
        "r = requests.get(url)\n",
        "os.makedirs(\"./cbdb_sqlite\", exist_ok=True)\n",
        "with open(\"./cbdb_sqlite/latest.7z\", \"wb\") as f:\n",
        "    f.write(r.content)"
      ]
    },
    {
      "cell_type": "code",
      "execution_count": 2,
      "metadata": {
        "colab": {
          "base_uri": "https://localhost:8080/"
        },
        "id": "sTdiMTi2SDtD",
        "outputId": "021870ec-fc4d-48a7-ad17-1f82a66b8568"
      },
      "outputs": [
        {
          "name": "stdout",
          "output_type": "stream",
          "text": [
            "latest.db\n"
          ]
        }
      ],
      "source": [
        "# import glob\n",
        "import os\n",
        "latest_file = \"./cbdb_sqlite/latest.7z\"\n",
        "latest_db = latest_file.split(\"/\")[2].split(\".\")[0] + \".db\"\n",
        "print(latest_db)\n",
        "if os.path.isfile(latest_db):\n",
        "    os.remove(latest_db)"
      ]
    },
    {
      "cell_type": "code",
      "execution_count": 3,
      "metadata": {
        "colab": {
          "base_uri": "https://localhost:8080/"
        },
        "id": "JiWn2I7NS3gw",
        "outputId": "fe908f9a-4a22-4412-c7f7-957024b22b25"
      },
      "outputs": [
        {
          "name": "stdout",
          "output_type": "stream",
          "text": [
            "Collecting pyunpack\n",
            "  Downloading pyunpack-0.2.2-py2.py3-none-any.whl (3.8 kB)\n",
            "Collecting easyprocess\n",
            "  Downloading EasyProcess-0.3-py2.py3-none-any.whl (7.9 kB)\n",
            "Collecting entrypoint2\n",
            "  Downloading entrypoint2-0.2.4-py3-none-any.whl (6.2 kB)\n",
            "Installing collected packages: entrypoint2, easyprocess, pyunpack\n",
            "Successfully installed easyprocess-0.3 entrypoint2-0.2.4 pyunpack-0.2.2\n",
            "Collecting patool\n",
            "  Downloading patool-1.12-py2.py3-none-any.whl (77 kB)\n",
            "\u001b[K     |████████████████████████████████| 77 kB 5.3 MB/s \n",
            "\u001b[?25hInstalling collected packages: patool\n",
            "Successfully installed patool-1.12\n"
          ]
        }
      ],
      "source": [
        "# Explode latest database file\n",
        "!pip install pyunpack\n",
        "!pip install patool\n",
        "from pyunpack import Archive\n",
        "Archive(latest_file).extractall(\".\")"
      ]
    },
    {
      "cell_type": "code",
      "execution_count": 4,
      "metadata": {
        "id": "wgk0n6IjTC66"
      },
      "outputs": [],
      "source": [
        "# Create connection to database\n",
        "import sqlite3\n",
        "import pandas as pd\n",
        "global CONN\n",
        "database_file = os.path.basename(latest_file).split(\".\")[0]+\".db\"\n",
        "CONN = sqlite3.connect(database_file)"
      ]
    },
    {
      "cell_type": "code",
      "execution_count": 5,
      "metadata": {
        "id": "6L7vHwL3TUnw"
      },
      "outputs": [],
      "source": [
        "entry_df = pd.read_sql_query(\"SELECT c_entry_desc_chn FROM ENTRY_CODES\", CONN).drop_duplicates().dropna()"
      ]
    },
    {
      "cell_type": "code",
      "execution_count": 6,
      "metadata": {
        "colab": {
          "base_uri": "https://localhost:8080/",
          "height": 419
        },
        "id": "Hcj7wR5ePbEK",
        "outputId": "102af1d0-9674-46a4-f365-ce08966396fb"
      },
      "outputs": [
        {
          "data": {
            "text/html": [
              "<div>\n",
              "<style scoped>\n",
              "    .dataframe tbody tr th:only-of-type {\n",
              "        vertical-align: middle;\n",
              "    }\n",
              "\n",
              "    .dataframe tbody tr th {\n",
              "        vertical-align: top;\n",
              "    }\n",
              "\n",
              "    .dataframe thead th {\n",
              "        text-align: right;\n",
              "    }\n",
              "</style>\n",
              "<table border=\"1\" class=\"dataframe\">\n",
              "  <thead>\n",
              "    <tr style=\"text-align: right;\">\n",
              "      <th></th>\n",
              "      <th>c_entry_desc_chn</th>\n",
              "    </tr>\n",
              "  </thead>\n",
              "  <tbody>\n",
              "    <tr>\n",
              "      <th>0</th>\n",
              "      <td>[Missing Data]</td>\n",
              "    </tr>\n",
              "    <tr>\n",
              "      <th>1</th>\n",
              "      <td>未知</td>\n",
              "    </tr>\n",
              "    <tr>\n",
              "      <th>2</th>\n",
              "      <td>前帝遜位</td>\n",
              "    </tr>\n",
              "    <tr>\n",
              "      <th>3</th>\n",
              "      <td>臨時保留，待考。</td>\n",
              "    </tr>\n",
              "    <tr>\n",
              "      <th>4</th>\n",
              "      <td>胥吏出職</td>\n",
              "    </tr>\n",
              "    <tr>\n",
              "      <th>...</th>\n",
              "      <td>...</td>\n",
              "    </tr>\n",
              "    <tr>\n",
              "      <th>263</th>\n",
              "      <td>介賓</td>\n",
              "    </tr>\n",
              "    <tr>\n",
              "      <th>264</th>\n",
              "      <td>宗室選試: 量試</td>\n",
              "    </tr>\n",
              "    <tr>\n",
              "      <th>265</th>\n",
              "      <td>宗室選試: 取應</td>\n",
              "    </tr>\n",
              "    <tr>\n",
              "      <th>266</th>\n",
              "      <td>賜名;賜名授官</td>\n",
              "    </tr>\n",
              "    <tr>\n",
              "      <th>267</th>\n",
              "      <td>詞學兼茂科</td>\n",
              "    </tr>\n",
              "  </tbody>\n",
              "</table>\n",
              "<p>268 rows × 1 columns</p>\n",
              "</div>"
            ],
            "text/plain": [
              "    c_entry_desc_chn\n",
              "0     [Missing Data]\n",
              "1                 未知\n",
              "2               前帝遜位\n",
              "3           臨時保留，待考。\n",
              "4               胥吏出職\n",
              "..               ...\n",
              "263               介賓\n",
              "264         宗室選試: 量試\n",
              "265         宗室選試: 取應\n",
              "266          賜名;賜名授官\n",
              "267            詞學兼茂科\n",
              "\n",
              "[268 rows x 1 columns]"
            ]
          },
          "execution_count": 6,
          "metadata": {},
          "output_type": "execute_result"
        }
      ],
      "source": [
        "entry_df"
      ]
    },
    {
      "cell_type": "code",
      "execution_count": 7,
      "metadata": {
        "id": "POEJnpbyTVTA"
      },
      "outputs": [],
      "source": [
        "def names_massage(df, column):\n",
        "  import re\n",
        "  # filter out meaningless entries\n",
        "  skip_words = ['Missing Data', '未知', '刪除', '馬甲', '其他', '布衣', '民人', '書院', '俊秀', '披甲', '外戚', '宗室', '覺羅', '得度', '閑散', '前鋒', '護軍', '行伍', '領催']\n",
        "  skip_words_as_regex = '|'.join(skip_words)\n",
        "  skip_phrases_as_regex = '臨時保留，待考。|刪除|以文學、文藝補官|以茂才\\,才行\\,武功\\,廉仁等科舉\\/授官 （非制科）|吏部試 (隋唐)|科舉\\: 三史|科舉\\: 九經|科舉\\: 五經|科舉制舉\\: 百篇|內務府 （清朝）|宗教\\: 受洗|宗教\\: 做喇嘛|於國內公立私立大學就學、畢業|封土建藩\\(始封\\)|皇子\\/親王|科舉\\: 詞科|清朝\\: 考取官位|吏部試 \\(隋唐\\)'\n",
        "  all_skip_as_regex = '|'.join([skip_words_as_regex, skip_phrases_as_regex])\n",
        "  df = df[df[column].str.contains(all_skip_as_regex)==False]\n",
        "  # filter other weirdos\n",
        "  df = df[df[column].str.contains('.*[a-zA-Z]+.*')==False]\n",
        "  # special replacements\n",
        "  #  1-1 replacement\n",
        "  replace_dict = {\n",
        "      '科舉制舉: 秀才(宋及以前)': '秀才',\n",
        "      '特賜補官、准赦文除授等': '特賜補官、准赦文除授',\n",
        "      '科舉學校: 恩賜出身、特賜出身等': '科舉學校: 恩賜出身、特賜出身',\n",
        "      '科舉: 正奏名諸科(不含明經、明法)': '正奏名諸科',\n",
        "      '貢生 = 貢監生(籠統) (明清賓貢,功貢)': '貢生、貢監生、賓貢、功貢',\n",
        "      '貢生: 選貢(優貢 after 1628)': '貢生、選貢、優貢',\n",
        "      '監生: 蔭監(含明代官生、恩生，或清代恩廕生、難廕生)': '監生、蔭監、官生、恩生、恩廕生、難廕生',\n",
        "      '其他蔭補(確定非聖節、大禮、致仕、遺表、死事蔭補)': '蔭補'\n",
        "  }\n",
        "  for key, val in replace_dict.items():\n",
        "    df[column] = df[column].replace(key, val)\n",
        "  #  regex replacement\n",
        "  df[column] = df[column].str.replace(\"\\(籠統\\)\", \"\", regex=True)\n",
        "  # break line\n",
        "  df[column] = df[column].apply(lambda x: re.split('、|\\(|\\)|（|）|：|\\:|\\/|\\=|\\:| |\\,|；|;', x))\n",
        "  df = df.explode(column).drop_duplicates().dropna()\n",
        "  # filter out meaningless entries again\n",
        "  df = df[df[column].str.contains('學校')==False]\n",
        "  # replace spaces with blank\n",
        "  df[column] = df[column].str.replace(\"\\\\s\", \"\", regex=True)\n",
        "  # remove single-character name\n",
        "  df = df[df[column].apply(lambda x: len(x)>1)]\n",
        "  # remove specific entries \n",
        "  skip_exact_words = set(['進士'])\n",
        "  df = df[df[column].apply(lambda x: x not in skip_exact_words)]\n",
        "  df.drop_duplicates().dropna()\n",
        "  return df"
      ]
    },
    {
      "cell_type": "code",
      "execution_count": 8,
      "metadata": {
        "colab": {
          "base_uri": "https://localhost:8080/"
        },
        "id": "6YU_kh8WoCcd",
        "outputId": "4ebf02e0-6e3c-43cc-ae8e-971a637b883a"
      },
      "outputs": [
        {
          "name": "stderr",
          "output_type": "stream",
          "text": [
            "/usr/local/lib/python3.7/dist-packages/pandas/core/strings.py:2001: UserWarning: This pattern has match groups. To actually get the groups, use str.extract.\n",
            "  return func(self, *args, **kwargs)\n"
          ]
        }
      ],
      "source": [
        "filtered_entry_df = names_massage(entry_df, 'c_entry_desc_chn')"
      ]
    },
    {
      "cell_type": "code",
      "execution_count": 9,
      "metadata": {
        "colab": {
          "base_uri": "https://localhost:8080/",
          "height": 419
        },
        "id": "HVocrCl2oMOu",
        "outputId": "b5a88c50-fe4b-4cb6-d2a7-d2ae5b5dfd3c"
      },
      "outputs": [
        {
          "data": {
            "text/html": [
              "<div>\n",
              "<style scoped>\n",
              "    .dataframe tbody tr th:only-of-type {\n",
              "        vertical-align: middle;\n",
              "    }\n",
              "\n",
              "    .dataframe tbody tr th {\n",
              "        vertical-align: top;\n",
              "    }\n",
              "\n",
              "    .dataframe thead th {\n",
              "        text-align: right;\n",
              "    }\n",
              "</style>\n",
              "<table border=\"1\" class=\"dataframe\">\n",
              "  <thead>\n",
              "    <tr style=\"text-align: right;\">\n",
              "      <th></th>\n",
              "      <th>c_entry_desc_chn</th>\n",
              "    </tr>\n",
              "  </thead>\n",
              "  <tbody>\n",
              "    <tr>\n",
              "      <th>2</th>\n",
              "      <td>前帝遜位</td>\n",
              "    </tr>\n",
              "    <tr>\n",
              "      <th>4</th>\n",
              "      <td>胥吏出職</td>\n",
              "    </tr>\n",
              "    <tr>\n",
              "      <th>5</th>\n",
              "      <td>進納補官</td>\n",
              "    </tr>\n",
              "    <tr>\n",
              "      <th>5</th>\n",
              "      <td>捐授</td>\n",
              "    </tr>\n",
              "    <tr>\n",
              "      <th>6</th>\n",
              "      <td>恩蔭</td>\n",
              "    </tr>\n",
              "    <tr>\n",
              "      <th>...</th>\n",
              "      <td>...</td>\n",
              "    </tr>\n",
              "    <tr>\n",
              "      <th>262</th>\n",
              "      <td>大賓</td>\n",
              "    </tr>\n",
              "    <tr>\n",
              "      <th>263</th>\n",
              "      <td>介賓</td>\n",
              "    </tr>\n",
              "    <tr>\n",
              "      <th>266</th>\n",
              "      <td>賜名</td>\n",
              "    </tr>\n",
              "    <tr>\n",
              "      <th>266</th>\n",
              "      <td>賜名授官</td>\n",
              "    </tr>\n",
              "    <tr>\n",
              "      <th>267</th>\n",
              "      <td>詞學兼茂科</td>\n",
              "    </tr>\n",
              "  </tbody>\n",
              "</table>\n",
              "<p>255 rows × 1 columns</p>\n",
              "</div>"
            ],
            "text/plain": [
              "    c_entry_desc_chn\n",
              "2               前帝遜位\n",
              "4               胥吏出職\n",
              "5               進納補官\n",
              "5                 捐授\n",
              "6                 恩蔭\n",
              "..               ...\n",
              "262               大賓\n",
              "263               介賓\n",
              "266               賜名\n",
              "266             賜名授官\n",
              "267            詞學兼茂科\n",
              "\n",
              "[255 rows x 1 columns]"
            ]
          },
          "execution_count": 9,
          "metadata": {},
          "output_type": "execute_result"
        }
      ],
      "source": [
        "filtered_entry_df"
      ]
    },
    {
      "cell_type": "code",
      "execution_count": 10,
      "metadata": {
        "colab": {
          "base_uri": "https://localhost:8080/",
          "height": 419
        },
        "id": "i6kWrl4Uh1gx",
        "outputId": "817a65ab-7d7f-4ee1-dbe9-33bb713b28f9"
      },
      "outputs": [
        {
          "data": {
            "text/html": [
              "<div>\n",
              "<style scoped>\n",
              "    .dataframe tbody tr th:only-of-type {\n",
              "        vertical-align: middle;\n",
              "    }\n",
              "\n",
              "    .dataframe tbody tr th {\n",
              "        vertical-align: top;\n",
              "    }\n",
              "\n",
              "    .dataframe thead th {\n",
              "        text-align: right;\n",
              "    }\n",
              "</style>\n",
              "<table border=\"1\" class=\"dataframe\">\n",
              "  <thead>\n",
              "    <tr style=\"text-align: right;\">\n",
              "      <th></th>\n",
              "      <th>c_entry_desc_chn</th>\n",
              "    </tr>\n",
              "  </thead>\n",
              "  <tbody>\n",
              "    <tr>\n",
              "      <th>219</th>\n",
              "      <td>清廉守節政術可稱堪縣令科</td>\n",
              "    </tr>\n",
              "    <tr>\n",
              "      <th>177</th>\n",
              "      <td>賢良方正能直言極諫科</td>\n",
              "    </tr>\n",
              "    <tr>\n",
              "      <th>228</th>\n",
              "      <td>詳明政術可以理人科</td>\n",
              "    </tr>\n",
              "    <tr>\n",
              "      <th>201</th>\n",
              "      <td>才高未達沈跡下僚科</td>\n",
              "    </tr>\n",
              "    <tr>\n",
              "      <th>235</th>\n",
              "      <td>高才沈淪草澤自舉科</td>\n",
              "    </tr>\n",
              "    <tr>\n",
              "      <th>...</th>\n",
              "      <td>...</td>\n",
              "    </tr>\n",
              "    <tr>\n",
              "      <th>88</th>\n",
              "      <td>例監</td>\n",
              "    </tr>\n",
              "    <tr>\n",
              "      <th>161</th>\n",
              "      <td>射策</td>\n",
              "    </tr>\n",
              "    <tr>\n",
              "      <th>84</th>\n",
              "      <td>副貢</td>\n",
              "    </tr>\n",
              "    <tr>\n",
              "      <th>18</th>\n",
              "      <td>制舉</td>\n",
              "    </tr>\n",
              "    <tr>\n",
              "      <th>19</th>\n",
              "      <td>大挑</td>\n",
              "    </tr>\n",
              "  </tbody>\n",
              "</table>\n",
              "<p>255 rows × 1 columns</p>\n",
              "</div>"
            ],
            "text/plain": [
              "    c_entry_desc_chn\n",
              "219     清廉守節政術可稱堪縣令科\n",
              "177       賢良方正能直言極諫科\n",
              "228        詳明政術可以理人科\n",
              "201        才高未達沈跡下僚科\n",
              "235        高才沈淪草澤自舉科\n",
              "..               ...\n",
              "88                例監\n",
              "161               射策\n",
              "84                副貢\n",
              "18                制舉\n",
              "19                大挑\n",
              "\n",
              "[255 rows x 1 columns]"
            ]
          },
          "execution_count": 10,
          "metadata": {},
          "output_type": "execute_result"
        }
      ],
      "source": [
        "# Sort by descending order of the length\n",
        "final_df = filtered_entry_df.sort_values(by=\"c_entry_desc_chn\", key=lambda x: -x.str.len())\n",
        "final_df"
      ]
    },
    {
      "cell_type": "code",
      "execution_count": 11,
      "metadata": {
        "id": "DvIGLM4LDV2q"
      },
      "outputs": [],
      "source": [
        "final_df.to_csv('cbdb_entity_entries.csv', index=False)"
      ]
    },
    {
      "cell_type": "code",
      "execution_count": 12,
      "metadata": {
        "id": "akK3-pokMswx"
      },
      "outputs": [],
      "source": [
        "# close the db\n",
        "CONN.close()"
      ]
    }
  ],
  "metadata": {
    "colab": {
      "collapsed_sections": [],
      "name": "generate CBDB entries entities.ipynb",
      "provenance": []
    },
    "interpreter": {
      "hash": "b3ba2566441a7c06988d0923437866b63cedc61552a5af99d1f4fb67d367b25f"
    },
    "kernelspec": {
      "display_name": "Python 3.8.8 64-bit ('base': conda)",
      "name": "python3"
    },
    "language_info": {
      "codemirror_mode": {
        "name": "ipython",
        "version": 3
      },
      "file_extension": ".py",
      "mimetype": "text/x-python",
      "name": "python",
      "nbconvert_exporter": "python",
      "pygments_lexer": "ipython3",
      "version": "3.8.8"
    }
  },
  "nbformat": 4,
  "nbformat_minor": 0
}
