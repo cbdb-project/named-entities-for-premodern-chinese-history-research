{
  "cells": [
    {
      "cell_type": "code",
      "execution_count": 8,
      "metadata": {
        "colab": {
          "base_uri": "https://localhost:8080/"
        },
        "id": "Ne5fZvGSRMx2",
        "outputId": "d13cb2d5-4e18-4703-8322-adc4fbf0e5fd"
      },
      "outputs": [
        {
          "output_type": "stream",
          "name": "stdout",
          "text": [
            "fatal: destination path 'cbdb_sqlite' already exists and is not an empty directory.\n",
            "fatal: destination path 'named-entities-for-premodern-chinese-history-research' already exists and is not an empty directory.\n"
          ]
        }
      ],
      "source": [
        "# Download CBDB sqlite\n",
        "!git clone https://github.com/cbdb-project/cbdb_sqlite.git\n",
        "# Download NECHR\n",
        "!git clone https://github.com/cbdb-project/named-entities-for-premodern-chinese-history-research.git"
      ]
    },
    {
      "cell_type": "code",
      "execution_count": 9,
      "metadata": {
        "colab": {
          "base_uri": "https://localhost:8080/"
        },
        "id": "sTdiMTi2SDtD",
        "outputId": "3a42bb31-bf8d-4ff7-f6b4-10db94ada93e"
      },
      "outputs": [
        {
          "output_type": "stream",
          "name": "stdout",
          "text": [
            "latest.db\n"
          ]
        }
      ],
      "source": [
        "# import glob\n",
        "import os\n",
        "latest_file = \"./cbdb_sqlite/latest.7z\"\n",
        "latest_db = latest_file.split(\"/\")[2].split(\".\")[0] + \".db\"\n",
        "print(latest_db)\n",
        "if os.path.isfile(latest_db):\n",
        "    os.remove(latest_db)"
      ]
    },
    {
      "cell_type": "code",
      "execution_count": 10,
      "metadata": {
        "colab": {
          "base_uri": "https://localhost:8080/"
        },
        "id": "JiWn2I7NS3gw",
        "outputId": "90785862-9819-429b-8060-16305df8c8c2"
      },
      "outputs": [
        {
          "output_type": "stream",
          "name": "stdout",
          "text": [
            "Requirement already satisfied: pyunpack in /usr/local/lib/python3.7/dist-packages (0.2.2)\n",
            "Requirement already satisfied: easyprocess in /usr/local/lib/python3.7/dist-packages (from pyunpack) (0.3)\n",
            "Requirement already satisfied: entrypoint2 in /usr/local/lib/python3.7/dist-packages (from pyunpack) (0.2.4)\n",
            "Requirement already satisfied: patool in /usr/local/lib/python3.7/dist-packages (1.12)\n"
          ]
        }
      ],
      "source": [
        "# Explode latest database file\n",
        "!pip install pyunpack\n",
        "!pip install patool\n",
        "from pyunpack import Archive\n",
        "Archive(latest_file).extractall(\".\")"
      ]
    },
    {
      "cell_type": "code",
      "execution_count": 11,
      "metadata": {
        "id": "wgk0n6IjTC66"
      },
      "outputs": [],
      "source": [
        "# Create connection to database\n",
        "import sqlite3\n",
        "import pandas as pd\n",
        "global CONN\n",
        "database_file = os.path.basename(latest_file).split(\".\")[0]+\".db\"\n",
        "CONN = sqlite3.connect(database_file)"
      ]
    },
    {
      "cell_type": "code",
      "execution_count": 12,
      "metadata": {
        "colab": {
          "base_uri": "https://localhost:8080/",
          "height": 419
        },
        "id": "6L7vHwL3TUnw",
        "outputId": "74303477-4171-4e52-9b40-98f062bd3d62"
      },
      "outputs": [
        {
          "output_type": "execute_result",
          "data": {
            "text/html": [
              "\n",
              "  <div id=\"df-91502b2d-144b-4c7c-bca0-f6a3cf9b4904\">\n",
              "    <div class=\"colab-df-container\">\n",
              "      <div>\n",
              "<style scoped>\n",
              "    .dataframe tbody tr th:only-of-type {\n",
              "        vertical-align: middle;\n",
              "    }\n",
              "\n",
              "    .dataframe tbody tr th {\n",
              "        vertical-align: top;\n",
              "    }\n",
              "\n",
              "    .dataframe thead th {\n",
              "        text-align: right;\n",
              "    }\n",
              "</style>\n",
              "<table border=\"1\" class=\"dataframe\">\n",
              "  <thead>\n",
              "    <tr style=\"text-align: right;\">\n",
              "      <th></th>\n",
              "      <th>addr_chn</th>\n",
              "    </tr>\n",
              "  </thead>\n",
              "  <tbody>\n",
              "    <tr>\n",
              "      <th>0</th>\n",
              "      <td>[信息缺乏]</td>\n",
              "    </tr>\n",
              "    <tr>\n",
              "      <th>1</th>\n",
              "      <td>[未詳]</td>\n",
              "    </tr>\n",
              "    <tr>\n",
              "      <th>2</th>\n",
              "      <td></td>\n",
              "    </tr>\n",
              "    <tr>\n",
              "      <th>3</th>\n",
              "      <td>中華人民共和國</td>\n",
              "    </tr>\n",
              "    <tr>\n",
              "      <th>4</th>\n",
              "      <td>北京省市</td>\n",
              "    </tr>\n",
              "    <tr>\n",
              "      <th>...</th>\n",
              "      <td>...</td>\n",
              "    </tr>\n",
              "    <tr>\n",
              "      <th>13381</th>\n",
              "      <td>濠梁衛</td>\n",
              "    </tr>\n",
              "    <tr>\n",
              "      <th>13382</th>\n",
              "      <td>平越府</td>\n",
              "    </tr>\n",
              "    <tr>\n",
              "      <th>13383</th>\n",
              "      <td>平越軍民府</td>\n",
              "    </tr>\n",
              "    <tr>\n",
              "      <th>13384</th>\n",
              "      <td>尋甸軍民府</td>\n",
              "    </tr>\n",
              "    <tr>\n",
              "      <th>13385</th>\n",
              "      <td>盱眙軍</td>\n",
              "    </tr>\n",
              "  </tbody>\n",
              "</table>\n",
              "<p>13132 rows × 1 columns</p>\n",
              "</div>\n",
              "      <button class=\"colab-df-convert\" onclick=\"convertToInteractive('df-91502b2d-144b-4c7c-bca0-f6a3cf9b4904')\"\n",
              "              title=\"Convert this dataframe to an interactive table.\"\n",
              "              style=\"display:none;\">\n",
              "        \n",
              "  <svg xmlns=\"http://www.w3.org/2000/svg\" height=\"24px\"viewBox=\"0 0 24 24\"\n",
              "       width=\"24px\">\n",
              "    <path d=\"M0 0h24v24H0V0z\" fill=\"none\"/>\n",
              "    <path d=\"M18.56 5.44l.94 2.06.94-2.06 2.06-.94-2.06-.94-.94-2.06-.94 2.06-2.06.94zm-11 1L8.5 8.5l.94-2.06 2.06-.94-2.06-.94L8.5 2.5l-.94 2.06-2.06.94zm10 10l.94 2.06.94-2.06 2.06-.94-2.06-.94-.94-2.06-.94 2.06-2.06.94z\"/><path d=\"M17.41 7.96l-1.37-1.37c-.4-.4-.92-.59-1.43-.59-.52 0-1.04.2-1.43.59L10.3 9.45l-7.72 7.72c-.78.78-.78 2.05 0 2.83L4 21.41c.39.39.9.59 1.41.59.51 0 1.02-.2 1.41-.59l7.78-7.78 2.81-2.81c.8-.78.8-2.07 0-2.86zM5.41 20L4 18.59l7.72-7.72 1.47 1.35L5.41 20z\"/>\n",
              "  </svg>\n",
              "      </button>\n",
              "      \n",
              "  <style>\n",
              "    .colab-df-container {\n",
              "      display:flex;\n",
              "      flex-wrap:wrap;\n",
              "      gap: 12px;\n",
              "    }\n",
              "\n",
              "    .colab-df-convert {\n",
              "      background-color: #E8F0FE;\n",
              "      border: none;\n",
              "      border-radius: 50%;\n",
              "      cursor: pointer;\n",
              "      display: none;\n",
              "      fill: #1967D2;\n",
              "      height: 32px;\n",
              "      padding: 0 0 0 0;\n",
              "      width: 32px;\n",
              "    }\n",
              "\n",
              "    .colab-df-convert:hover {\n",
              "      background-color: #E2EBFA;\n",
              "      box-shadow: 0px 1px 2px rgba(60, 64, 67, 0.3), 0px 1px 3px 1px rgba(60, 64, 67, 0.15);\n",
              "      fill: #174EA6;\n",
              "    }\n",
              "\n",
              "    [theme=dark] .colab-df-convert {\n",
              "      background-color: #3B4455;\n",
              "      fill: #D2E3FC;\n",
              "    }\n",
              "\n",
              "    [theme=dark] .colab-df-convert:hover {\n",
              "      background-color: #434B5C;\n",
              "      box-shadow: 0px 1px 3px 1px rgba(0, 0, 0, 0.15);\n",
              "      filter: drop-shadow(0px 1px 2px rgba(0, 0, 0, 0.3));\n",
              "      fill: #FFFFFF;\n",
              "    }\n",
              "  </style>\n",
              "\n",
              "      <script>\n",
              "        const buttonEl =\n",
              "          document.querySelector('#df-91502b2d-144b-4c7c-bca0-f6a3cf9b4904 button.colab-df-convert');\n",
              "        buttonEl.style.display =\n",
              "          google.colab.kernel.accessAllowed ? 'block' : 'none';\n",
              "\n",
              "        async function convertToInteractive(key) {\n",
              "          const element = document.querySelector('#df-91502b2d-144b-4c7c-bca0-f6a3cf9b4904');\n",
              "          const dataTable =\n",
              "            await google.colab.kernel.invokeFunction('convertToInteractive',\n",
              "                                                     [key], {});\n",
              "          if (!dataTable) return;\n",
              "\n",
              "          const docLinkHtml = 'Like what you see? Visit the ' +\n",
              "            '<a target=\"_blank\" href=https://colab.research.google.com/notebooks/data_table.ipynb>data table notebook</a>'\n",
              "            + ' to learn more about interactive tables.';\n",
              "          element.innerHTML = '';\n",
              "          dataTable['output_type'] = 'display_data';\n",
              "          await google.colab.output.renderOutput(dataTable, element);\n",
              "          const docLink = document.createElement('div');\n",
              "          docLink.innerHTML = docLinkHtml;\n",
              "          element.appendChild(docLink);\n",
              "        }\n",
              "      </script>\n",
              "    </div>\n",
              "  </div>\n",
              "  "
            ],
            "text/plain": [
              "      addr_chn\n",
              "0       [信息缺乏]\n",
              "1         [未詳]\n",
              "2             \n",
              "3      中華人民共和國\n",
              "4         北京省市\n",
              "...        ...\n",
              "13381      濠梁衛\n",
              "13382      平越府\n",
              "13383    平越軍民府\n",
              "13384    尋甸軍民府\n",
              "13385      盱眙軍\n",
              "\n",
              "[13132 rows x 1 columns]"
            ]
          },
          "metadata": {},
          "execution_count": 12
        }
      ],
      "source": [
        "addr_df_c_name_chn = pd.read_sql_query(\"SELECT c_name_chn FROM ADDR_CODES\", CONN).drop_duplicates().dropna()\n",
        "addr_df_c_alt_names = pd.read_sql_query(\"SELECT c_alt_names FROM ADDR_CODES\", CONN).drop_duplicates().dropna()\n",
        "addr_df = pd.concat([addr_df_c_name_chn, addr_df_c_alt_names], axis=1).stack().reset_index(drop=True).drop_duplicates().dropna().to_frame(name='addr_chn')\n",
        "addr_df"
      ]
    },
    {
      "cell_type": "code",
      "execution_count": 13,
      "metadata": {
        "colab": {
          "base_uri": "https://localhost:8080/"
        },
        "id": "miZuXE1OW7Rf",
        "outputId": "e62f4189-dafc-4222-fb36-815d5d291f16"
      },
      "outputs": [
        {
          "output_type": "stream",
          "name": "stdout",
          "text": [
            "139\n"
          ]
        }
      ],
      "source": [
        "# read in address type csv file\n",
        "address_type_df = pd.read_csv('./named-entities-for-premodern-chinese-history-research/cbdb_entity_address_types.csv')\n",
        "address_type_list = address_type_df['name'].to_list()\n",
        "address_type_list = address_type_list + [\"等\", \"等處\"]\n",
        "address_type_list = sorted(address_type_list, key=len)\n",
        "address_type_list.reverse()\n",
        "print(len(address_type_list))"
      ]
    },
    {
      "cell_type": "code",
      "execution_count": 14,
      "metadata": {
        "id": "M9il3aSsXpuU"
      },
      "outputs": [],
      "source": [
        "def recursively_remove_addr_type_from_text(res, text, address_type_list):\n",
        "  if not text:\n",
        "    return\n",
        "  res.append(text)\n",
        "  for word in address_type_list:\n",
        "    if text.endswith(word):\n",
        "      remains = text[:len(text)-len(word)]\n",
        "      recursively_remove_addr_type_from_text(res, remains, address_type_list)\n",
        "      break;\n",
        "\n",
        "def remove_addr_type_from_text(text, address_type_list):\n",
        "  res = []\n",
        "  recursively_remove_addr_type_from_text(res, text, address_type_list)\n",
        "  return res"
      ]
    },
    {
      "cell_type": "code",
      "execution_count": 15,
      "metadata": {
        "colab": {
          "base_uri": "https://localhost:8080/"
        },
        "id": "aaqZ6rjszeAE",
        "outputId": "e02b68ac-e8e5-48da-c944-831b43892568"
      },
      "outputs": [
        {
          "output_type": "stream",
          "name": "stdout",
          "text": [
            "['沿邊第一區備禦後千戶所左衛', '沿邊第一區備禦後千戶所', '沿邊第一區']\n"
          ]
        }
      ],
      "source": [
        "# Test get_addr_tokens_from_text\n",
        "input = \"沿邊第一區備禦後千戶所左衛\"\n",
        "res = remove_addr_type_from_text(input, address_type_list)\n",
        "print(res)"
      ]
    },
    {
      "cell_type": "code",
      "execution_count": 16,
      "metadata": {
        "id": "POEJnpbyTVTA"
      },
      "outputs": [],
      "source": [
        "def names_massage(df, column):\n",
        "  # split line by ;\n",
        "  df[column] = df[column].apply(lambda x: x.split(';'))\n",
        "  df = df.explode(column).drop_duplicates().dropna()\n",
        "  # remove row with 、\n",
        "  df = df[df[column].str.contains('、')==False]\n",
        "  # replace spaces with blank\n",
        "  df[column] = df[column].str.replace(\"\\\\s\", \"\", regex=True)\n",
        "  # remove single-character row\n",
        "  df = df[df[column].apply(lambda x: len(x)>1)]\n",
        "  # remove the addresses which contain any English letters or any sort of brackets\n",
        "  df = df[df[column].str.contains('.*[a-zA-Z]+.*')==False]\n",
        "  df = df[df[column].str.contains('\\(|\\[|{|\\)|\\]|}|（|「|【|）|」|】')==False]\n",
        "  # remove address type recursively\n",
        "  df[column] = df[column].apply(lambda x: remove_addr_type_from_text(x, address_type_list))\n",
        "  df = df.explode(column).drop_duplicates().dropna()\n",
        "  # remove single-character \n",
        "  df = df[df[column].apply(lambda x: len(x)>1)]\n",
        "  # remove row that's too long\n",
        "  df = df[df[column].apply(lambda x: len(x)<14)]\n",
        "  return df"
      ]
    },
    {
      "cell_type": "code",
      "execution_count": 17,
      "metadata": {
        "id": "6YU_kh8WoCcd"
      },
      "outputs": [],
      "source": [
        "filtered_addr_df = names_massage(addr_df, 'addr_chn')"
      ]
    },
    {
      "cell_type": "code",
      "execution_count": 18,
      "metadata": {
        "colab": {
          "base_uri": "https://localhost:8080/",
          "height": 419
        },
        "id": "HVocrCl2oMOu",
        "outputId": "dc22bf8b-e0d0-4ecd-b22e-022765606ab9"
      },
      "outputs": [
        {
          "output_type": "execute_result",
          "data": {
            "text/html": [
              "\n",
              "  <div id=\"df-8a602d5e-a3db-4fd0-a075-f603199c15e5\">\n",
              "    <div class=\"colab-df-container\">\n",
              "      <div>\n",
              "<style scoped>\n",
              "    .dataframe tbody tr th:only-of-type {\n",
              "        vertical-align: middle;\n",
              "    }\n",
              "\n",
              "    .dataframe tbody tr th {\n",
              "        vertical-align: top;\n",
              "    }\n",
              "\n",
              "    .dataframe thead th {\n",
              "        text-align: right;\n",
              "    }\n",
              "</style>\n",
              "<table border=\"1\" class=\"dataframe\">\n",
              "  <thead>\n",
              "    <tr style=\"text-align: right;\">\n",
              "      <th></th>\n",
              "      <th>addr_chn</th>\n",
              "    </tr>\n",
              "  </thead>\n",
              "  <tbody>\n",
              "    <tr>\n",
              "      <th>3</th>\n",
              "      <td>中華人民共和國</td>\n",
              "    </tr>\n",
              "    <tr>\n",
              "      <th>4</th>\n",
              "      <td>北京省市</td>\n",
              "    </tr>\n",
              "    <tr>\n",
              "      <th>4</th>\n",
              "      <td>北京省</td>\n",
              "    </tr>\n",
              "    <tr>\n",
              "      <th>4</th>\n",
              "      <td>北京</td>\n",
              "    </tr>\n",
              "    <tr>\n",
              "      <th>5</th>\n",
              "      <td>天津省市</td>\n",
              "    </tr>\n",
              "    <tr>\n",
              "      <th>...</th>\n",
              "      <td>...</td>\n",
              "    </tr>\n",
              "    <tr>\n",
              "      <th>13383</th>\n",
              "      <td>平越軍民府</td>\n",
              "    </tr>\n",
              "    <tr>\n",
              "      <th>13383</th>\n",
              "      <td>平越軍民</td>\n",
              "    </tr>\n",
              "    <tr>\n",
              "      <th>13384</th>\n",
              "      <td>尋甸軍民府</td>\n",
              "    </tr>\n",
              "    <tr>\n",
              "      <th>13384</th>\n",
              "      <td>尋甸軍民</td>\n",
              "    </tr>\n",
              "    <tr>\n",
              "      <th>13385</th>\n",
              "      <td>盱眙軍</td>\n",
              "    </tr>\n",
              "  </tbody>\n",
              "</table>\n",
              "<p>16194 rows × 1 columns</p>\n",
              "</div>\n",
              "      <button class=\"colab-df-convert\" onclick=\"convertToInteractive('df-8a602d5e-a3db-4fd0-a075-f603199c15e5')\"\n",
              "              title=\"Convert this dataframe to an interactive table.\"\n",
              "              style=\"display:none;\">\n",
              "        \n",
              "  <svg xmlns=\"http://www.w3.org/2000/svg\" height=\"24px\"viewBox=\"0 0 24 24\"\n",
              "       width=\"24px\">\n",
              "    <path d=\"M0 0h24v24H0V0z\" fill=\"none\"/>\n",
              "    <path d=\"M18.56 5.44l.94 2.06.94-2.06 2.06-.94-2.06-.94-.94-2.06-.94 2.06-2.06.94zm-11 1L8.5 8.5l.94-2.06 2.06-.94-2.06-.94L8.5 2.5l-.94 2.06-2.06.94zm10 10l.94 2.06.94-2.06 2.06-.94-2.06-.94-.94-2.06-.94 2.06-2.06.94z\"/><path d=\"M17.41 7.96l-1.37-1.37c-.4-.4-.92-.59-1.43-.59-.52 0-1.04.2-1.43.59L10.3 9.45l-7.72 7.72c-.78.78-.78 2.05 0 2.83L4 21.41c.39.39.9.59 1.41.59.51 0 1.02-.2 1.41-.59l7.78-7.78 2.81-2.81c.8-.78.8-2.07 0-2.86zM5.41 20L4 18.59l7.72-7.72 1.47 1.35L5.41 20z\"/>\n",
              "  </svg>\n",
              "      </button>\n",
              "      \n",
              "  <style>\n",
              "    .colab-df-container {\n",
              "      display:flex;\n",
              "      flex-wrap:wrap;\n",
              "      gap: 12px;\n",
              "    }\n",
              "\n",
              "    .colab-df-convert {\n",
              "      background-color: #E8F0FE;\n",
              "      border: none;\n",
              "      border-radius: 50%;\n",
              "      cursor: pointer;\n",
              "      display: none;\n",
              "      fill: #1967D2;\n",
              "      height: 32px;\n",
              "      padding: 0 0 0 0;\n",
              "      width: 32px;\n",
              "    }\n",
              "\n",
              "    .colab-df-convert:hover {\n",
              "      background-color: #E2EBFA;\n",
              "      box-shadow: 0px 1px 2px rgba(60, 64, 67, 0.3), 0px 1px 3px 1px rgba(60, 64, 67, 0.15);\n",
              "      fill: #174EA6;\n",
              "    }\n",
              "\n",
              "    [theme=dark] .colab-df-convert {\n",
              "      background-color: #3B4455;\n",
              "      fill: #D2E3FC;\n",
              "    }\n",
              "\n",
              "    [theme=dark] .colab-df-convert:hover {\n",
              "      background-color: #434B5C;\n",
              "      box-shadow: 0px 1px 3px 1px rgba(0, 0, 0, 0.15);\n",
              "      filter: drop-shadow(0px 1px 2px rgba(0, 0, 0, 0.3));\n",
              "      fill: #FFFFFF;\n",
              "    }\n",
              "  </style>\n",
              "\n",
              "      <script>\n",
              "        const buttonEl =\n",
              "          document.querySelector('#df-8a602d5e-a3db-4fd0-a075-f603199c15e5 button.colab-df-convert');\n",
              "        buttonEl.style.display =\n",
              "          google.colab.kernel.accessAllowed ? 'block' : 'none';\n",
              "\n",
              "        async function convertToInteractive(key) {\n",
              "          const element = document.querySelector('#df-8a602d5e-a3db-4fd0-a075-f603199c15e5');\n",
              "          const dataTable =\n",
              "            await google.colab.kernel.invokeFunction('convertToInteractive',\n",
              "                                                     [key], {});\n",
              "          if (!dataTable) return;\n",
              "\n",
              "          const docLinkHtml = 'Like what you see? Visit the ' +\n",
              "            '<a target=\"_blank\" href=https://colab.research.google.com/notebooks/data_table.ipynb>data table notebook</a>'\n",
              "            + ' to learn more about interactive tables.';\n",
              "          element.innerHTML = '';\n",
              "          dataTable['output_type'] = 'display_data';\n",
              "          await google.colab.output.renderOutput(dataTable, element);\n",
              "          const docLink = document.createElement('div');\n",
              "          docLink.innerHTML = docLinkHtml;\n",
              "          element.appendChild(docLink);\n",
              "        }\n",
              "      </script>\n",
              "    </div>\n",
              "  </div>\n",
              "  "
            ],
            "text/plain": [
              "      addr_chn\n",
              "3      中華人民共和國\n",
              "4         北京省市\n",
              "4          北京省\n",
              "4           北京\n",
              "5         天津省市\n",
              "...        ...\n",
              "13383    平越軍民府\n",
              "13383     平越軍民\n",
              "13384    尋甸軍民府\n",
              "13384     尋甸軍民\n",
              "13385      盱眙軍\n",
              "\n",
              "[16194 rows x 1 columns]"
            ]
          },
          "metadata": {},
          "execution_count": 18
        }
      ],
      "source": [
        "filtered_addr_df"
      ]
    },
    {
      "cell_type": "code",
      "execution_count": 19,
      "metadata": {
        "colab": {
          "base_uri": "https://localhost:8080/",
          "height": 419
        },
        "id": "i6kWrl4Uh1gx",
        "outputId": "e6f2c1bf-a526-45ed-ae3e-190032b124a5"
      },
      "outputs": [
        {
          "output_type": "execute_result",
          "data": {
            "text/html": [
              "\n",
              "  <div id=\"df-1ca568a0-be59-44e0-ba02-9a5e70d17445\">\n",
              "    <div class=\"colab-df-container\">\n",
              "      <div>\n",
              "<style scoped>\n",
              "    .dataframe tbody tr th:only-of-type {\n",
              "        vertical-align: middle;\n",
              "    }\n",
              "\n",
              "    .dataframe tbody tr th {\n",
              "        vertical-align: top;\n",
              "    }\n",
              "\n",
              "    .dataframe thead th {\n",
              "        text-align: right;\n",
              "    }\n",
              "</style>\n",
              "<table border=\"1\" class=\"dataframe\">\n",
              "  <thead>\n",
              "    <tr style=\"text-align: right;\">\n",
              "      <th></th>\n",
              "      <th>addr_chn</th>\n",
              "    </tr>\n",
              "  </thead>\n",
              "  <tbody>\n",
              "    <tr>\n",
              "      <th>9772</th>\n",
              "      <td>松潘宕疊威茂州等處軍民安撫</td>\n",
              "    </tr>\n",
              "    <tr>\n",
              "      <th>12471</th>\n",
              "      <td>鎮南管內節度使暨鎮南都護府</td>\n",
              "    </tr>\n",
              "    <tr>\n",
              "      <th>2663</th>\n",
              "      <td>鎮沅彝族哈尼族拉祜族自治縣</td>\n",
              "    </tr>\n",
              "    <tr>\n",
              "      <th>9770</th>\n",
              "      <td>階文扶州等處番漢軍上千戶所</td>\n",
              "    </tr>\n",
              "    <tr>\n",
              "      <th>12470</th>\n",
              "      <td>鎮南管內經略使暨鎮南都護府</td>\n",
              "    </tr>\n",
              "    <tr>\n",
              "      <th>...</th>\n",
              "      <td>...</td>\n",
              "    </tr>\n",
              "    <tr>\n",
              "      <th>3060</th>\n",
              "      <td>陝州</td>\n",
              "    </tr>\n",
              "    <tr>\n",
              "      <th>3061</th>\n",
              "      <td>湖城</td>\n",
              "    </tr>\n",
              "    <tr>\n",
              "      <th>3062</th>\n",
              "      <td>閿鄉</td>\n",
              "    </tr>\n",
              "    <tr>\n",
              "      <th>6620</th>\n",
              "      <td>零祿</td>\n",
              "    </tr>\n",
              "    <tr>\n",
              "      <th>7000</th>\n",
              "      <td>翼州</td>\n",
              "    </tr>\n",
              "  </tbody>\n",
              "</table>\n",
              "<p>16194 rows × 1 columns</p>\n",
              "</div>\n",
              "      <button class=\"colab-df-convert\" onclick=\"convertToInteractive('df-1ca568a0-be59-44e0-ba02-9a5e70d17445')\"\n",
              "              title=\"Convert this dataframe to an interactive table.\"\n",
              "              style=\"display:none;\">\n",
              "        \n",
              "  <svg xmlns=\"http://www.w3.org/2000/svg\" height=\"24px\"viewBox=\"0 0 24 24\"\n",
              "       width=\"24px\">\n",
              "    <path d=\"M0 0h24v24H0V0z\" fill=\"none\"/>\n",
              "    <path d=\"M18.56 5.44l.94 2.06.94-2.06 2.06-.94-2.06-.94-.94-2.06-.94 2.06-2.06.94zm-11 1L8.5 8.5l.94-2.06 2.06-.94-2.06-.94L8.5 2.5l-.94 2.06-2.06.94zm10 10l.94 2.06.94-2.06 2.06-.94-2.06-.94-.94-2.06-.94 2.06-2.06.94z\"/><path d=\"M17.41 7.96l-1.37-1.37c-.4-.4-.92-.59-1.43-.59-.52 0-1.04.2-1.43.59L10.3 9.45l-7.72 7.72c-.78.78-.78 2.05 0 2.83L4 21.41c.39.39.9.59 1.41.59.51 0 1.02-.2 1.41-.59l7.78-7.78 2.81-2.81c.8-.78.8-2.07 0-2.86zM5.41 20L4 18.59l7.72-7.72 1.47 1.35L5.41 20z\"/>\n",
              "  </svg>\n",
              "      </button>\n",
              "      \n",
              "  <style>\n",
              "    .colab-df-container {\n",
              "      display:flex;\n",
              "      flex-wrap:wrap;\n",
              "      gap: 12px;\n",
              "    }\n",
              "\n",
              "    .colab-df-convert {\n",
              "      background-color: #E8F0FE;\n",
              "      border: none;\n",
              "      border-radius: 50%;\n",
              "      cursor: pointer;\n",
              "      display: none;\n",
              "      fill: #1967D2;\n",
              "      height: 32px;\n",
              "      padding: 0 0 0 0;\n",
              "      width: 32px;\n",
              "    }\n",
              "\n",
              "    .colab-df-convert:hover {\n",
              "      background-color: #E2EBFA;\n",
              "      box-shadow: 0px 1px 2px rgba(60, 64, 67, 0.3), 0px 1px 3px 1px rgba(60, 64, 67, 0.15);\n",
              "      fill: #174EA6;\n",
              "    }\n",
              "\n",
              "    [theme=dark] .colab-df-convert {\n",
              "      background-color: #3B4455;\n",
              "      fill: #D2E3FC;\n",
              "    }\n",
              "\n",
              "    [theme=dark] .colab-df-convert:hover {\n",
              "      background-color: #434B5C;\n",
              "      box-shadow: 0px 1px 3px 1px rgba(0, 0, 0, 0.15);\n",
              "      filter: drop-shadow(0px 1px 2px rgba(0, 0, 0, 0.3));\n",
              "      fill: #FFFFFF;\n",
              "    }\n",
              "  </style>\n",
              "\n",
              "      <script>\n",
              "        const buttonEl =\n",
              "          document.querySelector('#df-1ca568a0-be59-44e0-ba02-9a5e70d17445 button.colab-df-convert');\n",
              "        buttonEl.style.display =\n",
              "          google.colab.kernel.accessAllowed ? 'block' : 'none';\n",
              "\n",
              "        async function convertToInteractive(key) {\n",
              "          const element = document.querySelector('#df-1ca568a0-be59-44e0-ba02-9a5e70d17445');\n",
              "          const dataTable =\n",
              "            await google.colab.kernel.invokeFunction('convertToInteractive',\n",
              "                                                     [key], {});\n",
              "          if (!dataTable) return;\n",
              "\n",
              "          const docLinkHtml = 'Like what you see? Visit the ' +\n",
              "            '<a target=\"_blank\" href=https://colab.research.google.com/notebooks/data_table.ipynb>data table notebook</a>'\n",
              "            + ' to learn more about interactive tables.';\n",
              "          element.innerHTML = '';\n",
              "          dataTable['output_type'] = 'display_data';\n",
              "          await google.colab.output.renderOutput(dataTable, element);\n",
              "          const docLink = document.createElement('div');\n",
              "          docLink.innerHTML = docLinkHtml;\n",
              "          element.appendChild(docLink);\n",
              "        }\n",
              "      </script>\n",
              "    </div>\n",
              "  </div>\n",
              "  "
            ],
            "text/plain": [
              "            addr_chn\n",
              "9772   松潘宕疊威茂州等處軍民安撫\n",
              "12471  鎮南管內節度使暨鎮南都護府\n",
              "2663   鎮沅彝族哈尼族拉祜族自治縣\n",
              "9770   階文扶州等處番漢軍上千戶所\n",
              "12470  鎮南管內經略使暨鎮南都護府\n",
              "...              ...\n",
              "3060              陝州\n",
              "3061              湖城\n",
              "3062              閿鄉\n",
              "6620              零祿\n",
              "7000              翼州\n",
              "\n",
              "[16194 rows x 1 columns]"
            ]
          },
          "metadata": {},
          "execution_count": 19
        }
      ],
      "source": [
        "# Sort by descending order of the length\n",
        "final_df = filtered_addr_df.sort_values(by=\"addr_chn\", key=lambda x: -x.str.len())\n",
        "final_df"
      ]
    },
    {
      "cell_type": "code",
      "execution_count": 20,
      "metadata": {
        "id": "DvIGLM4LDV2q"
      },
      "outputs": [],
      "source": [
        "final_df.to_csv('cbdb_entity_addresses.csv', index=False)"
      ]
    },
    {
      "cell_type": "code",
      "execution_count": 21,
      "metadata": {
        "id": "akK3-pokMswx"
      },
      "outputs": [],
      "source": [
        "# close the db\n",
        "CONN.close()"
      ]
    }
  ],
  "metadata": {
    "colab": {
      "collapsed_sections": [],
      "name": "generate CBDB address entities.ipynb",
      "provenance": []
    },
    "interpreter": {
      "hash": "b3ba2566441a7c06988d0923437866b63cedc61552a5af99d1f4fb67d367b25f"
    },
    "kernelspec": {
      "display_name": "Python 3.8.8 64-bit ('base': conda)",
      "name": "python3"
    },
    "language_info": {
      "codemirror_mode": {
        "name": "ipython",
        "version": 3
      },
      "file_extension": ".py",
      "mimetype": "text/x-python",
      "name": "python",
      "nbconvert_exporter": "python",
      "pygments_lexer": "ipython3",
      "version": "3.8.8"
    }
  },
  "nbformat": 4,
  "nbformat_minor": 0
}