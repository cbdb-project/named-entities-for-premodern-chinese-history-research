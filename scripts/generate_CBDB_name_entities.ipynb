{
  "cells": [
    {
      "cell_type": "code",
      "execution_count": null,
      "metadata": {
        "colab": {
          "base_uri": "https://localhost:8080/"
        },
        "id": "Ne5fZvGSRMx2",
        "outputId": "7df0f987-e41d-4321-be90-ceaaeccc5c0a"
      },
      "outputs": [
        {
          "name": "stdout",
          "output_type": "stream",
          "text": [
            "Cloning into 'cbdb_sqlite'...\n",
            "remote: Enumerating objects: 31, done.\u001b[K\n",
            "remote: Counting objects: 100% (9/9), done.\u001b[K\n",
            "remote: Compressing objects: 100% (6/6), done.\u001b[K\n",
            "remote: Total 31 (delta 3), reused 9 (delta 3), pack-reused 22\u001b[K\n",
            "Unpacking objects: 100% (31/31), done.\n"
          ]
        }
      ],
      "source": [
        "import requests\n",
        "import os\n",
        "url = \"https://huggingface.co/datasets/cbdb/cbdb-sqlite/resolve/main/latest.7z?download=true\"\n",
        "r = requests.get(url)\n",
        "os.makedirs(\"./cbdb_sqlite\", exist_ok=True)\n",
        "with open(\"./cbdb_sqlite/latest.7z\", \"wb\") as f:\n",
        "    f.write(r.content)"
      ]
    },
    {
      "cell_type": "code",
      "execution_count": null,
      "metadata": {
        "colab": {
          "base_uri": "https://localhost:8080/"
        },
        "id": "sTdiMTi2SDtD",
        "outputId": "4a466ade-d6a2-46cc-cbf9-3fbf3cf9f17a"
      },
      "outputs": [
        {
          "name": "stdout",
          "output_type": "stream",
          "text": [
            "latest.db\n"
          ]
        }
      ],
      "source": [
        "# import glob\n",
        "import os\n",
        "latest_file = \"./cbdb_sqlite/latest.7z\"\n",
        "latest_db = latest_file.split(\"/\")[2].split(\".\")[0] + \".db\"\n",
        "print(latest_db)\n",
        "if os.path.isfile(latest_db):\n",
        "    os.remove(latest_db)"
      ]
    },
    {
      "cell_type": "code",
      "execution_count": null,
      "metadata": {
        "colab": {
          "base_uri": "https://localhost:8080/"
        },
        "id": "JiWn2I7NS3gw",
        "outputId": "dd2bce89-37aa-4d97-8eca-49607e55e2d8"
      },
      "outputs": [
        {
          "name": "stdout",
          "output_type": "stream",
          "text": [
            "Collecting pyunpack\n",
            "  Downloading pyunpack-0.2.2-py2.py3-none-any.whl (3.8 kB)\n",
            "Collecting easyprocess\n",
            "  Downloading EasyProcess-0.3-py2.py3-none-any.whl (7.9 kB)\n",
            "Collecting entrypoint2\n",
            "  Downloading entrypoint2-0.2.4-py3-none-any.whl (6.2 kB)\n",
            "Installing collected packages: entrypoint2, easyprocess, pyunpack\n",
            "Successfully installed easyprocess-0.3 entrypoint2-0.2.4 pyunpack-0.2.2\n",
            "Collecting patool\n",
            "  Downloading patool-1.12-py2.py3-none-any.whl (77 kB)\n",
            "\u001b[K     |████████████████████████████████| 77 kB 5.7 MB/s \n",
            "\u001b[?25hInstalling collected packages: patool\n",
            "Successfully installed patool-1.12\n"
          ]
        }
      ],
      "source": [
        "# Explode latest database file\n",
        "!pip install pyunpack\n",
        "!pip install patool\n",
        "from pyunpack import Archive\n",
        "Archive(latest_file).extractall(\".\")"
      ]
    },
    {
      "cell_type": "code",
      "execution_count": null,
      "metadata": {
        "id": "wgk0n6IjTC66"
      },
      "outputs": [],
      "source": [
        "# Create connection to database\n",
        "import sqlite3\n",
        "import pandas as pd\n",
        "global CONN\n",
        "database_file = os.path.basename(latest_file).split(\".\")[0]+\".db\"\n",
        "CONN = sqlite3.connect(database_file)"
      ]
    },
    {
      "cell_type": "code",
      "execution_count": null,
      "metadata": {
        "id": "6L7vHwL3TUnw"
      },
      "outputs": [],
      "source": [
        "fullenames_df = pd.read_sql_query(\"SELECT c_name_chn FROM BIOG_MAIN\", CONN).drop_duplicates().dropna()\n",
        "# exclude c_alt_name_type_code = 7 (birth-order name / 行第, e.g. 第二十三)\n",
        "givennames_df = pd.read_sql_query(\"SELECT c_alt_name_chn FROM ALTNAME_DATA where c_alt_name_type_code <> 7\", CONN).drop_duplicates().dropna()"
      ]
    },
    {
      "cell_type": "code",
      "execution_count": null,
      "metadata": {
        "id": "POEJnpbyTVTA"
      },
      "outputs": [],
      "source": [
        "def names_massage(df, column):\n",
        "  # remove content in brackets\n",
        "  df[column] = df[column].str.replace(\"[\\(（].*[\\)）]\", \"\", regex=True)\n",
        "  # remove single-character name\n",
        "  df = df[df[column].apply(lambda x: len(x)>1)]\n",
        "  # filter out weird characters\n",
        "  df = df[df[column].str.contains('\\?|？|#|!|！|【|。|、.|,|，|\\*|、|\\[|□|�|{|「')==False]\n",
        "  df = df[df[column].str.contains('.*[a-zA-Z]+.*')==False]\n",
        "  df = df[df[column].str.contains('\\d')==False]\n",
        "  df.drop_duplicates().dropna()\n",
        "  return df"
      ]
    },
    {
      "cell_type": "code",
      "execution_count": null,
      "metadata": {
        "id": "4JAgPmpt5MKp"
      },
      "outputs": [],
      "source": [
        "filtered_fullnames = names_massage(fullenames_df, 'c_name_chn')\n",
        "filtered_givennames = names_massage(givennames_df, 'c_alt_name_chn')"
      ]
    },
    {
      "cell_type": "code",
      "execution_count": null,
      "metadata": {
        "colab": {
          "base_uri": "https://localhost:8080/",
          "height": 507
        },
        "id": "hSr5zMZ8CXOr",
        "outputId": "ecfd9323-1a0b-4e63-984b-1c6434331e34"
      },
      "outputs": [
        {
          "data": {
            "text/html": [
              "<div>\n",
              "<style scoped>\n",
              "    .dataframe tbody tr th:only-of-type {\n",
              "        vertical-align: middle;\n",
              "    }\n",
              "\n",
              "    .dataframe tbody tr th {\n",
              "        vertical-align: top;\n",
              "    }\n",
              "\n",
              "    .dataframe thead th {\n",
              "        text-align: right;\n",
              "    }\n",
              "</style>\n",
              "<table border=\"1\" class=\"dataframe\">\n",
              "  <thead>\n",
              "    <tr style=\"text-align: right;\">\n",
              "      <th></th>\n",
              "      <th>c_name_chn</th>\n",
              "    </tr>\n",
              "  </thead>\n",
              "  <tbody>\n",
              "    <tr>\n",
              "      <th>0</th>\n",
              "      <td>富興</td>\n",
              "    </tr>\n",
              "    <tr>\n",
              "      <th>1</th>\n",
              "      <td>富陞額</td>\n",
              "    </tr>\n",
              "    <tr>\n",
              "      <th>2</th>\n",
              "      <td>嵩山</td>\n",
              "    </tr>\n",
              "    <tr>\n",
              "      <th>3</th>\n",
              "      <td>得祿</td>\n",
              "    </tr>\n",
              "    <tr>\n",
              "      <th>4</th>\n",
              "      <td>恆善</td>\n",
              "    </tr>\n",
              "    <tr>\n",
              "      <th>...</th>\n",
              "      <td>...</td>\n",
              "    </tr>\n",
              "    <tr>\n",
              "      <th>491162</th>\n",
              "      <td>龔龍見</td>\n",
              "    </tr>\n",
              "    <tr>\n",
              "      <th>491164</th>\n",
              "      <td>郎侃</td>\n",
              "    </tr>\n",
              "    <tr>\n",
              "      <th>491165</th>\n",
              "      <td>郎崇賢</td>\n",
              "    </tr>\n",
              "    <tr>\n",
              "      <th>491166</th>\n",
              "      <td>郎汝璠</td>\n",
              "    </tr>\n",
              "    <tr>\n",
              "      <th>491167</th>\n",
              "      <td>𣾰生色</td>\n",
              "    </tr>\n",
              "  </tbody>\n",
              "</table>\n",
              "<p>352504 rows × 1 columns</p>\n",
              "</div>"
            ],
            "text/plain": [
              "       c_name_chn\n",
              "0              富興\n",
              "1             富陞額\n",
              "2              嵩山\n",
              "3              得祿\n",
              "4              恆善\n",
              "...           ...\n",
              "491162        龔龍見\n",
              "491164         郎侃\n",
              "491165        郎崇賢\n",
              "491166        郎汝璠\n",
              "491167        𣾰生色\n",
              "\n",
              "[352504 rows x 1 columns]"
            ]
          },
          "execution_count": 8,
          "metadata": {},
          "output_type": "execute_result"
        }
      ],
      "source": [
        "filtered_fullnames"
      ]
    },
    {
      "cell_type": "code",
      "execution_count": null,
      "metadata": {
        "colab": {
          "base_uri": "https://localhost:8080/",
          "height": 419
        },
        "id": "fyO9rqkfCYM_",
        "outputId": "2688470c-2881-4821-f940-217ab340bf1f"
      },
      "outputs": [
        {
          "data": {
            "text/html": [
              "<div>\n",
              "<style scoped>\n",
              "    .dataframe tbody tr th:only-of-type {\n",
              "        vertical-align: middle;\n",
              "    }\n",
              "\n",
              "    .dataframe tbody tr th {\n",
              "        vertical-align: top;\n",
              "    }\n",
              "\n",
              "    .dataframe thead th {\n",
              "        text-align: right;\n",
              "    }\n",
              "</style>\n",
              "<table border=\"1\" class=\"dataframe\">\n",
              "  <thead>\n",
              "    <tr style=\"text-align: right;\">\n",
              "      <th></th>\n",
              "      <th>c_alt_name_chn</th>\n",
              "    </tr>\n",
              "  </thead>\n",
              "  <tbody>\n",
              "    <tr>\n",
              "      <th>0</th>\n",
              "      <td>處厚</td>\n",
              "    </tr>\n",
              "    <tr>\n",
              "      <th>1</th>\n",
              "      <td>厚卿</td>\n",
              "    </tr>\n",
              "    <tr>\n",
              "      <th>2</th>\n",
              "      <td>湛然</td>\n",
              "    </tr>\n",
              "    <tr>\n",
              "      <th>3</th>\n",
              "      <td>元章</td>\n",
              "    </tr>\n",
              "    <tr>\n",
              "      <th>4</th>\n",
              "      <td>寳臣</td>\n",
              "    </tr>\n",
              "    <tr>\n",
              "      <th>...</th>\n",
              "      <td>...</td>\n",
              "    </tr>\n",
              "    <tr>\n",
              "      <th>139602</th>\n",
              "      <td>南阿山人</td>\n",
              "    </tr>\n",
              "    <tr>\n",
              "      <th>139606</th>\n",
              "      <td>明徵</td>\n",
              "    </tr>\n",
              "    <tr>\n",
              "      <th>139610</th>\n",
              "      <td>爾思</td>\n",
              "    </tr>\n",
              "    <tr>\n",
              "      <th>139611</th>\n",
              "      <td>飛虎將軍</td>\n",
              "    </tr>\n",
              "    <tr>\n",
              "      <th>139612</th>\n",
              "      <td>於始</td>\n",
              "    </tr>\n",
              "  </tbody>\n",
              "</table>\n",
              "<p>72462 rows × 1 columns</p>\n",
              "</div>"
            ],
            "text/plain": [
              "       c_alt_name_chn\n",
              "0                  處厚\n",
              "1                  厚卿\n",
              "2                  湛然\n",
              "3                  元章\n",
              "4                  寳臣\n",
              "...               ...\n",
              "139602           南阿山人\n",
              "139606             明徵\n",
              "139610             爾思\n",
              "139611           飛虎將軍\n",
              "139612             於始\n",
              "\n",
              "[72462 rows x 1 columns]"
            ]
          },
          "execution_count": 9,
          "metadata": {},
          "output_type": "execute_result"
        }
      ],
      "source": [
        "filtered_givennames"
      ]
    },
    {
      "cell_type": "code",
      "execution_count": null,
      "metadata": {
        "id": "UPTc9Qt9CgKw"
      },
      "outputs": [],
      "source": [
        "# combine df\n",
        "final_df = pd.concat([filtered_fullnames, filtered_givennames], axis=1).stack().reset_index(drop=True).drop_duplicates().dropna().to_frame(name='name')"
      ]
    },
    {
      "cell_type": "code",
      "execution_count": null,
      "metadata": {
        "colab": {
          "base_uri": "https://localhost:8080/",
          "height": 419
        },
        "id": "i6kWrl4Uh1gx",
        "outputId": "2a42a1d4-f9b4-4e64-83db-9d83732e4353"
      },
      "outputs": [
        {
          "data": {
            "text/html": [
              "<div>\n",
              "<style scoped>\n",
              "    .dataframe tbody tr th:only-of-type {\n",
              "        vertical-align: middle;\n",
              "    }\n",
              "\n",
              "    .dataframe tbody tr th {\n",
              "        vertical-align: top;\n",
              "    }\n",
              "\n",
              "    .dataframe thead th {\n",
              "        text-align: right;\n",
              "    }\n",
              "</style>\n",
              "<table border=\"1\" class=\"dataframe\">\n",
              "  <thead>\n",
              "    <tr style=\"text-align: right;\">\n",
              "      <th></th>\n",
              "      <th>name</th>\n",
              "    </tr>\n",
              "  </thead>\n",
              "  <tbody>\n",
              "    <tr>\n",
              "      <th>0</th>\n",
              "      <td>富興</td>\n",
              "    </tr>\n",
              "    <tr>\n",
              "      <th>1</th>\n",
              "      <td>處厚</td>\n",
              "    </tr>\n",
              "    <tr>\n",
              "      <th>2</th>\n",
              "      <td>富陞額</td>\n",
              "    </tr>\n",
              "    <tr>\n",
              "      <th>3</th>\n",
              "      <td>厚卿</td>\n",
              "    </tr>\n",
              "    <tr>\n",
              "      <th>4</th>\n",
              "      <td>嵩山</td>\n",
              "    </tr>\n",
              "    <tr>\n",
              "      <th>...</th>\n",
              "      <td>...</td>\n",
              "    </tr>\n",
              "    <tr>\n",
              "      <th>424961</th>\n",
              "      <td>龔龍見</td>\n",
              "    </tr>\n",
              "    <tr>\n",
              "      <th>424962</th>\n",
              "      <td>郎侃</td>\n",
              "    </tr>\n",
              "    <tr>\n",
              "      <th>424963</th>\n",
              "      <td>郎崇賢</td>\n",
              "    </tr>\n",
              "    <tr>\n",
              "      <th>424964</th>\n",
              "      <td>郎汝璠</td>\n",
              "    </tr>\n",
              "    <tr>\n",
              "      <th>424965</th>\n",
              "      <td>𣾰生色</td>\n",
              "    </tr>\n",
              "  </tbody>\n",
              "</table>\n",
              "<p>376488 rows × 1 columns</p>\n",
              "</div>"
            ],
            "text/plain": [
              "       name\n",
              "0        富興\n",
              "1        處厚\n",
              "2       富陞額\n",
              "3        厚卿\n",
              "4        嵩山\n",
              "...     ...\n",
              "424961  龔龍見\n",
              "424962   郎侃\n",
              "424963  郎崇賢\n",
              "424964  郎汝璠\n",
              "424965  𣾰生色\n",
              "\n",
              "[376488 rows x 1 columns]"
            ]
          },
          "execution_count": 11,
          "metadata": {},
          "output_type": "execute_result"
        }
      ],
      "source": [
        "final_df"
      ]
    },
    {
      "cell_type": "code",
      "execution_count": null,
      "metadata": {
        "colab": {
          "base_uri": "https://localhost:8080/",
          "height": 419
        },
        "id": "Wd3TNKbObLJl",
        "outputId": "c049b492-f89b-4e3a-fc54-64d87d38147c"
      },
      "outputs": [
        {
          "data": {
            "text/html": [
              "<div>\n",
              "<style scoped>\n",
              "    .dataframe tbody tr th:only-of-type {\n",
              "        vertical-align: middle;\n",
              "    }\n",
              "\n",
              "    .dataframe tbody tr th {\n",
              "        vertical-align: top;\n",
              "    }\n",
              "\n",
              "    .dataframe thead th {\n",
              "        text-align: right;\n",
              "    }\n",
              "</style>\n",
              "<table border=\"1\" class=\"dataframe\">\n",
              "  <thead>\n",
              "    <tr style=\"text-align: right;\">\n",
              "      <th></th>\n",
              "      <th>name</th>\n",
              "    </tr>\n",
              "  </thead>\n",
              "  <tbody>\n",
              "    <tr>\n",
              "      <th>132261</th>\n",
              "      <td>護國庇民妙靈昭應宏仁普濟福佑群生誠感咸孚顯神贊順垂慈篤祐天后</td>\n",
              "    </tr>\n",
              "    <tr>\n",
              "      <th>61535</th>\n",
              "      <td>承天廣運聖德神功肇紀立極仁孝睿武端毅欽安弘文定業高皇帝</td>\n",
              "    </tr>\n",
              "    <tr>\n",
              "      <th>167917</th>\n",
              "      <td>正倫立極盛德洪烈至誠大義格天熙運顯文毅武聖敬達孝大王</td>\n",
              "    </tr>\n",
              "    <tr>\n",
              "      <th>165301</th>\n",
              "      <td>受天興運敷化綏猷崇文經武光裕孝恭勤儉端敏英哲睿皇帝</td>\n",
              "    </tr>\n",
              "    <tr>\n",
              "      <th>165302</th>\n",
              "      <td>效天符運立中體正至文聖武智勇仁慈儉勤孝敏寬定成皇帝</td>\n",
              "    </tr>\n",
              "    <tr>\n",
              "      <th>...</th>\n",
              "      <td>...</td>\n",
              "    </tr>\n",
              "    <tr>\n",
              "      <th>100106</th>\n",
              "      <td>喬在</td>\n",
              "    </tr>\n",
              "    <tr>\n",
              "      <th>100105</th>\n",
              "      <td>習叟</td>\n",
              "    </tr>\n",
              "    <tr>\n",
              "      <th>100103</th>\n",
              "      <td>楓人</td>\n",
              "    </tr>\n",
              "    <tr>\n",
              "      <th>278882</th>\n",
              "      <td>田恪</td>\n",
              "    </tr>\n",
              "    <tr>\n",
              "      <th>0</th>\n",
              "      <td>富興</td>\n",
              "    </tr>\n",
              "  </tbody>\n",
              "</table>\n",
              "<p>376488 rows × 1 columns</p>\n",
              "</div>"
            ],
            "text/plain": [
              "                                  name\n",
              "132261  護國庇民妙靈昭應宏仁普濟福佑群生誠感咸孚顯神贊順垂慈篤祐天后\n",
              "61535      承天廣運聖德神功肇紀立極仁孝睿武端毅欽安弘文定業高皇帝\n",
              "167917      正倫立極盛德洪烈至誠大義格天熙運顯文毅武聖敬達孝大王\n",
              "165301       受天興運敷化綏猷崇文經武光裕孝恭勤儉端敏英哲睿皇帝\n",
              "165302       效天符運立中體正至文聖武智勇仁慈儉勤孝敏寬定成皇帝\n",
              "...                                ...\n",
              "100106                              喬在\n",
              "100105                              習叟\n",
              "100103                              楓人\n",
              "278882                              田恪\n",
              "0                                   富興\n",
              "\n",
              "[376488 rows x 1 columns]"
            ]
          },
          "execution_count": 16,
          "metadata": {},
          "output_type": "execute_result"
        }
      ],
      "source": [
        "# Sort by descending order of the length\n",
        "final_df = final_df.sort_values(by=\"name\", key=lambda x: -x.str.len())\n",
        "final_df"
      ]
    },
    {
      "cell_type": "code",
      "execution_count": null,
      "metadata": {
        "id": "DvIGLM4LDV2q"
      },
      "outputs": [],
      "source": [
        "final_df.to_csv('cbdb_entity_names.csv', index=False)"
      ]
    },
    {
      "cell_type": "code",
      "execution_count": null,
      "metadata": {
        "id": "xFKENa-da6Br"
      },
      "outputs": [],
      "source": [
        "# close the db\n",
        "CONN.close()"
      ]
    },
    {
      "cell_type": "code",
      "execution_count": null,
      "metadata": {
        "id": "DWpDBAAUbSAc"
      },
      "outputs": [],
      "source": []
    }
  ],
  "metadata": {
    "colab": {
      "name": "generate CBDB name entities.ipynb",
      "provenance": []
    },
    "interpreter": {
      "hash": "b3ba2566441a7c06988d0923437866b63cedc61552a5af99d1f4fb67d367b25f"
    },
    "kernelspec": {
      "display_name": "Python 3.8.8 64-bit ('base': conda)",
      "name": "python3"
    },
    "language_info": {
      "codemirror_mode": {
        "name": "ipython",
        "version": 3
      },
      "file_extension": ".py",
      "mimetype": "text/x-python",
      "name": "python",
      "nbconvert_exporter": "python",
      "pygments_lexer": "ipython3",
      "version": "3.8.8"
    }
  },
  "nbformat": 4,
  "nbformat_minor": 0
}
