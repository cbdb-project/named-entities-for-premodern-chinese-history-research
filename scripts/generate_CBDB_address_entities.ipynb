{
  "nbformat": 4,
  "nbformat_minor": 0,
  "metadata": {
    "colab": {
      "name": "generate CBDB address entities.ipynb",
      "provenance": [],
      "collapsed_sections": []
    },
    "kernelspec": {
      "name": "python3",
      "display_name": "Python 3.8.8 64-bit ('base': conda)"
    },
    "language_info": {
      "name": "python",
      "version": "3.8.8",
      "mimetype": "text/x-python",
      "codemirror_mode": {
        "name": "ipython",
        "version": 3
      },
      "pygments_lexer": "ipython3",
      "nbconvert_exporter": "python",
      "file_extension": ".py"
    },
    "interpreter": {
      "hash": "b3ba2566441a7c06988d0923437866b63cedc61552a5af99d1f4fb67d367b25f"
    }
  },
  "cells": [
    {
      "cell_type": "code",
      "metadata": {
        "colab": {
          "base_uri": "https://localhost:8080/"
        },
        "id": "Ne5fZvGSRMx2",
        "outputId": "d880753b-01f5-4bdb-b6e7-17eaf7024d6e"
      },
      "source": [
        "# Download CBDB sqlite\n",
        "!git clone https://github.com/cbdb-project/cbdb_sqlite.git"
      ],
      "execution_count": 6,
      "outputs": [
        {
          "output_type": "stream",
          "name": "stdout",
          "text": [
            "Cloning into 'cbdb_sqlite'...\n",
            "remote: Enumerating objects: 31, done.\u001b[K\n",
            "remote: Counting objects: 100% (9/9), done.\u001b[K\n",
            "remote: Compressing objects: 100% (6/6), done.\u001b[K\n",
            "remote: Total 31 (delta 3), reused 9 (delta 3), pack-reused 22\u001b[K\n",
            "Unpacking objects: 100% (31/31), done.\n"
          ]
        }
      ]
    },
    {
      "cell_type": "code",
      "metadata": {
        "colab": {
          "base_uri": "https://localhost:8080/"
        },
        "id": "sTdiMTi2SDtD",
        "outputId": "7725f7c8-fc11-4b9d-cfbc-a42db4ae4bf6"
      },
      "source": [
        "# import glob\n",
        "import os\n",
        "latest_file = \"./cbdb_sqlite/latest.7z\"\n",
        "latest_db = latest_file.split(\"/\")[2].split(\".\")[0] + \".db\"\n",
        "print(latest_db)\n",
        "if os.path.isfile(latest_db):\n",
        "    os.remove(latest_db)"
      ],
      "execution_count": 7,
      "outputs": [
        {
          "output_type": "stream",
          "name": "stdout",
          "text": [
            "latest.db\n"
          ]
        }
      ]
    },
    {
      "cell_type": "code",
      "metadata": {
        "colab": {
          "base_uri": "https://localhost:8080/"
        },
        "id": "JiWn2I7NS3gw",
        "outputId": "40a42487-fd24-4f06-f568-892b35533db7"
      },
      "source": [
        "# Explode latest database file\n",
        "!pip install pyunpack\n",
        "!pip install patool\n",
        "from pyunpack import Archive\n",
        "Archive(latest_file).extractall(\".\")"
      ],
      "execution_count": 8,
      "outputs": [
        {
          "output_type": "stream",
          "name": "stdout",
          "text": [
            "Collecting pyunpack\n",
            "  Downloading pyunpack-0.2.2-py2.py3-none-any.whl (3.8 kB)\n",
            "Collecting easyprocess\n",
            "  Downloading EasyProcess-0.3-py2.py3-none-any.whl (7.9 kB)\n",
            "Collecting entrypoint2\n",
            "  Downloading entrypoint2-0.2.4-py3-none-any.whl (6.2 kB)\n",
            "Installing collected packages: entrypoint2, easyprocess, pyunpack\n",
            "Successfully installed easyprocess-0.3 entrypoint2-0.2.4 pyunpack-0.2.2\n",
            "Collecting patool\n",
            "  Downloading patool-1.12-py2.py3-none-any.whl (77 kB)\n",
            "\u001b[K     |████████████████████████████████| 77 kB 4.0 MB/s \n",
            "\u001b[?25hInstalling collected packages: patool\n",
            "Successfully installed patool-1.12\n"
          ]
        }
      ]
    },
    {
      "cell_type": "code",
      "metadata": {
        "id": "wgk0n6IjTC66"
      },
      "source": [
        "# Create connection to database\n",
        "import sqlite3\n",
        "import pandas as pd\n",
        "global CONN\n",
        "database_file = os.path.basename(latest_file).split(\".\")[0]+\".db\"\n",
        "CONN = sqlite3.connect(database_file)"
      ],
      "execution_count": 9,
      "outputs": []
    },
    {
      "cell_type": "code",
      "metadata": {
        "id": "6L7vHwL3TUnw",
        "colab": {
          "base_uri": "https://localhost:8080/",
          "height": 419
        },
        "outputId": "f8b0e911-45e9-40f0-de68-4dac3ebb0d20"
      },
      "source": [
        "addr_df_c_name_chn = pd.read_sql_query(\"SELECT c_name_chn FROM ADDR_CODES\", CONN).drop_duplicates().dropna()\n",
        "addr_df_c_alt_names = pd.read_sql_query(\"SELECT c_alt_names FROM ADDR_CODES\", CONN).drop_duplicates().dropna()\n",
        "addr_df = pd.concat([addr_df_c_name_chn, addr_df_c_alt_names], axis=1).stack().reset_index(drop=True).drop_duplicates().dropna().to_frame(name='addr_chn')\n",
        "addr_df"
      ],
      "execution_count": 10,
      "outputs": [
        {
          "output_type": "execute_result",
          "data": {
            "text/html": [
              "<div>\n",
              "<style scoped>\n",
              "    .dataframe tbody tr th:only-of-type {\n",
              "        vertical-align: middle;\n",
              "    }\n",
              "\n",
              "    .dataframe tbody tr th {\n",
              "        vertical-align: top;\n",
              "    }\n",
              "\n",
              "    .dataframe thead th {\n",
              "        text-align: right;\n",
              "    }\n",
              "</style>\n",
              "<table border=\"1\" class=\"dataframe\">\n",
              "  <thead>\n",
              "    <tr style=\"text-align: right;\">\n",
              "      <th></th>\n",
              "      <th>addr_chn</th>\n",
              "    </tr>\n",
              "  </thead>\n",
              "  <tbody>\n",
              "    <tr>\n",
              "      <th>0</th>\n",
              "      <td>[信息缺乏]</td>\n",
              "    </tr>\n",
              "    <tr>\n",
              "      <th>1</th>\n",
              "      <td>[未詳]</td>\n",
              "    </tr>\n",
              "    <tr>\n",
              "      <th>2</th>\n",
              "      <td></td>\n",
              "    </tr>\n",
              "    <tr>\n",
              "      <th>3</th>\n",
              "      <td>中華人民共和國</td>\n",
              "    </tr>\n",
              "    <tr>\n",
              "      <th>4</th>\n",
              "      <td>北京省市</td>\n",
              "    </tr>\n",
              "    <tr>\n",
              "      <th>...</th>\n",
              "      <td>...</td>\n",
              "    </tr>\n",
              "    <tr>\n",
              "      <th>13374</th>\n",
              "      <td>定戎</td>\n",
              "    </tr>\n",
              "    <tr>\n",
              "      <th>13375</th>\n",
              "      <td>義合</td>\n",
              "    </tr>\n",
              "    <tr>\n",
              "      <th>13376</th>\n",
              "      <td>積石軍</td>\n",
              "    </tr>\n",
              "    <tr>\n",
              "      <th>13377</th>\n",
              "      <td>敷文</td>\n",
              "    </tr>\n",
              "    <tr>\n",
              "      <th>13378</th>\n",
              "      <td>江淮等路</td>\n",
              "    </tr>\n",
              "  </tbody>\n",
              "</table>\n",
              "<p>13126 rows × 1 columns</p>\n",
              "</div>"
            ],
            "text/plain": [
              "      addr_chn\n",
              "0       [信息缺乏]\n",
              "1         [未詳]\n",
              "2             \n",
              "3      中華人民共和國\n",
              "4         北京省市\n",
              "...        ...\n",
              "13374       定戎\n",
              "13375       義合\n",
              "13376      積石軍\n",
              "13377       敷文\n",
              "13378     江淮等路\n",
              "\n",
              "[13126 rows x 1 columns]"
            ]
          },
          "metadata": {},
          "execution_count": 10
        }
      ]
    },
    {
      "cell_type": "code",
      "metadata": {
        "colab": {
          "base_uri": "https://localhost:8080/"
        },
        "id": "miZuXE1OW7Rf",
        "outputId": "b31940dd-fe0f-4ffb-a1bd-5f193d484f53"
      },
      "source": [
        "# read in address type csv file\n",
        "address_type_df = pd.read_csv('../cbdb_entity_address_types.csv')\n",
        "address_type_list = address_type_df['name'].to_list()\n",
        "print(len(address_type_list))"
      ],
      "execution_count": 12,
      "outputs": [
        {
          "output_type": "stream",
          "name": "stdout",
          "text": [
            "128\n"
          ]
        }
      ]
    },
    {
      "cell_type": "code",
      "metadata": {
        "id": "M9il3aSsXpuU"
      },
      "source": [
        "def recursively_remove_addr_type_from_text(res, text, address_type_list):\n",
        "  if not text:\n",
        "    return\n",
        "  res.append(text)\n",
        "  for word in address_type_list:\n",
        "    if text.endswith(word):\n",
        "      remains = text[:len(text)-len(word)]\n",
        "      recursively_remove_addr_type_from_text(res, remains, address_type_list)\n",
        "      break;\n",
        "\n",
        "def remove_addr_type_from_text(text, address_type_list):\n",
        "  res = []\n",
        "  recursively_remove_addr_type_from_text(res, text, address_type_list)\n",
        "  return res"
      ],
      "execution_count": 13,
      "outputs": []
    },
    {
      "cell_type": "code",
      "metadata": {
        "colab": {
          "base_uri": "https://localhost:8080/"
        },
        "id": "aaqZ6rjszeAE",
        "outputId": "3ef48447-8a55-45c3-c904-068c9f3f19be"
      },
      "source": [
        "# Test get_addr_tokens_from_text\n",
        "input = \"沿邊第一區備禦後千戶所左衛\"\n",
        "res = remove_addr_type_from_text(input, address_type_list)\n",
        "print(res)"
      ],
      "execution_count": 14,
      "outputs": [
        {
          "output_type": "stream",
          "name": "stdout",
          "text": [
            "['沿邊第一區備禦後千戶所左衛', '沿邊第一區備禦後千戶所', '沿邊第一區']\n"
          ]
        }
      ]
    },
    {
      "cell_type": "code",
      "metadata": {
        "id": "POEJnpbyTVTA"
      },
      "source": [
        "def names_massage(df, column):\n",
        "  # split line by ;\n",
        "  df[column] = df[column].apply(lambda x: x.split(';'))\n",
        "  df = df.explode(column).drop_duplicates().dropna()\n",
        "  # remove row with 、\n",
        "  df = df[df[column].str.contains('、')==False]\n",
        "  # replace spaces with blank\n",
        "  df[column] = df[column].str.replace(\"\\\\s\", \"\", regex=True)\n",
        "  # remove single-character row\n",
        "  df = df[df[column].apply(lambda x: len(x)>1)]\n",
        "  # remove the addresses which contain any English letters or any sort of brackets\n",
        "  df = df[df[column].str.contains('.*[a-zA-Z]+.*')==False]\n",
        "  df = df[df[column].str.contains('\\(|\\[|{|\\)|\\]|}|（|「|【|）|」|】')==False]\n",
        "  # remove address type recursively\n",
        "  df[column] = df[column].apply(lambda x: remove_addr_type_from_text(x, address_type_list))\n",
        "  df = df.explode(column).drop_duplicates().dropna()\n",
        "  # remove single-character \n",
        "  df = df[df[column].apply(lambda x: len(x)>1)]\n",
        "  # remove row that's too long\n",
        "  df = df[df[column].apply(lambda x: len(x)<14)]\n",
        "  return df"
      ],
      "execution_count": 15,
      "outputs": []
    },
    {
      "cell_type": "code",
      "metadata": {
        "id": "6YU_kh8WoCcd"
      },
      "source": [
        "filtered_addr_df = names_massage(addr_df, 'addr_chn')"
      ],
      "execution_count": 16,
      "outputs": []
    },
    {
      "cell_type": "code",
      "metadata": {
        "colab": {
          "base_uri": "https://localhost:8080/",
          "height": 419
        },
        "id": "HVocrCl2oMOu",
        "outputId": "ca2f7e6b-e1dd-4838-b30f-dca5b894c4a5"
      },
      "source": [
        "filtered_addr_df"
      ],
      "execution_count": 17,
      "outputs": [
        {
          "output_type": "execute_result",
          "data": {
            "text/html": [
              "<div>\n",
              "<style scoped>\n",
              "    .dataframe tbody tr th:only-of-type {\n",
              "        vertical-align: middle;\n",
              "    }\n",
              "\n",
              "    .dataframe tbody tr th {\n",
              "        vertical-align: top;\n",
              "    }\n",
              "\n",
              "    .dataframe thead th {\n",
              "        text-align: right;\n",
              "    }\n",
              "</style>\n",
              "<table border=\"1\" class=\"dataframe\">\n",
              "  <thead>\n",
              "    <tr style=\"text-align: right;\">\n",
              "      <th></th>\n",
              "      <th>addr_chn</th>\n",
              "    </tr>\n",
              "  </thead>\n",
              "  <tbody>\n",
              "    <tr>\n",
              "      <th>3</th>\n",
              "      <td>中華人民共和國</td>\n",
              "    </tr>\n",
              "    <tr>\n",
              "      <th>4</th>\n",
              "      <td>北京省市</td>\n",
              "    </tr>\n",
              "    <tr>\n",
              "      <th>4</th>\n",
              "      <td>北京省</td>\n",
              "    </tr>\n",
              "    <tr>\n",
              "      <th>4</th>\n",
              "      <td>北京</td>\n",
              "    </tr>\n",
              "    <tr>\n",
              "      <th>5</th>\n",
              "      <td>天津省市</td>\n",
              "    </tr>\n",
              "    <tr>\n",
              "      <th>...</th>\n",
              "      <td>...</td>\n",
              "    </tr>\n",
              "    <tr>\n",
              "      <th>13375</th>\n",
              "      <td>義合</td>\n",
              "    </tr>\n",
              "    <tr>\n",
              "      <th>13376</th>\n",
              "      <td>積石軍</td>\n",
              "    </tr>\n",
              "    <tr>\n",
              "      <th>13377</th>\n",
              "      <td>敷文</td>\n",
              "    </tr>\n",
              "    <tr>\n",
              "      <th>13378</th>\n",
              "      <td>江淮等路</td>\n",
              "    </tr>\n",
              "    <tr>\n",
              "      <th>13378</th>\n",
              "      <td>江淮等</td>\n",
              "    </tr>\n",
              "  </tbody>\n",
              "</table>\n",
              "<p>16168 rows × 1 columns</p>\n",
              "</div>"
            ],
            "text/plain": [
              "      addr_chn\n",
              "3      中華人民共和國\n",
              "4         北京省市\n",
              "4          北京省\n",
              "4           北京\n",
              "5         天津省市\n",
              "...        ...\n",
              "13375       義合\n",
              "13376      積石軍\n",
              "13377       敷文\n",
              "13378     江淮等路\n",
              "13378      江淮等\n",
              "\n",
              "[16168 rows x 1 columns]"
            ]
          },
          "metadata": {},
          "execution_count": 17
        }
      ]
    },
    {
      "cell_type": "code",
      "metadata": {
        "colab": {
          "base_uri": "https://localhost:8080/",
          "height": 419
        },
        "id": "i6kWrl4Uh1gx",
        "outputId": "7620bf9e-5a6c-4f50-bf5b-9d63bd245a4c"
      },
      "source": [
        "# Sort by descending order of the length\n",
        "final_df = filtered_addr_df.sort_values(by=\"addr_chn\", key=lambda x: -x.str.len())\n",
        "final_df"
      ],
      "execution_count": 18,
      "outputs": [
        {
          "output_type": "execute_result",
          "data": {
            "text/html": [
              "<div>\n",
              "<style scoped>\n",
              "    .dataframe tbody tr th:only-of-type {\n",
              "        vertical-align: middle;\n",
              "    }\n",
              "\n",
              "    .dataframe tbody tr th {\n",
              "        vertical-align: top;\n",
              "    }\n",
              "\n",
              "    .dataframe thead th {\n",
              "        text-align: right;\n",
              "    }\n",
              "</style>\n",
              "<table border=\"1\" class=\"dataframe\">\n",
              "  <thead>\n",
              "    <tr style=\"text-align: right;\">\n",
              "      <th></th>\n",
              "      <th>addr_chn</th>\n",
              "    </tr>\n",
              "  </thead>\n",
              "  <tbody>\n",
              "    <tr>\n",
              "      <th>7501</th>\n",
              "      <td>沿河祐溪等處蠻夷軍民長官司</td>\n",
              "    </tr>\n",
              "    <tr>\n",
              "      <th>9786</th>\n",
              "      <td>碉門魚通等處管軍守鎮萬戶府</td>\n",
              "    </tr>\n",
              "    <tr>\n",
              "      <th>9770</th>\n",
              "      <td>松潘宕疊威茂州等處軍民安撫</td>\n",
              "    </tr>\n",
              "    <tr>\n",
              "      <th>7607</th>\n",
              "      <td>葛蠻雍真等處蠻夷軍民長官司</td>\n",
              "    </tr>\n",
              "    <tr>\n",
              "      <th>10316</th>\n",
              "      <td>固原靜寧隆德鎮原等處兵備道</td>\n",
              "    </tr>\n",
              "    <tr>\n",
              "      <th>...</th>\n",
              "      <td>...</td>\n",
              "    </tr>\n",
              "    <tr>\n",
              "      <th>6216</th>\n",
              "      <td>王朝</td>\n",
              "    </tr>\n",
              "    <tr>\n",
              "      <th>6217</th>\n",
              "      <td>高江</td>\n",
              "    </tr>\n",
              "    <tr>\n",
              "      <th>6223</th>\n",
              "      <td>保靜</td>\n",
              "    </tr>\n",
              "    <tr>\n",
              "      <th>6211</th>\n",
              "      <td>辰陽</td>\n",
              "    </tr>\n",
              "    <tr>\n",
              "      <th>7722</th>\n",
              "      <td>興泉</td>\n",
              "    </tr>\n",
              "  </tbody>\n",
              "</table>\n",
              "<p>16168 rows × 1 columns</p>\n",
              "</div>"
            ],
            "text/plain": [
              "            addr_chn\n",
              "7501   沿河祐溪等處蠻夷軍民長官司\n",
              "9786   碉門魚通等處管軍守鎮萬戶府\n",
              "9770   松潘宕疊威茂州等處軍民安撫\n",
              "7607   葛蠻雍真等處蠻夷軍民長官司\n",
              "10316  固原靜寧隆德鎮原等處兵備道\n",
              "...              ...\n",
              "6216              王朝\n",
              "6217              高江\n",
              "6223              保靜\n",
              "6211              辰陽\n",
              "7722              興泉\n",
              "\n",
              "[16168 rows x 1 columns]"
            ]
          },
          "metadata": {},
          "execution_count": 18
        }
      ]
    },
    {
      "cell_type": "code",
      "metadata": {
        "id": "DvIGLM4LDV2q"
      },
      "source": [
        "final_df.to_csv('cbdb_address_entries.csv', index=False)"
      ],
      "execution_count": 19,
      "outputs": []
    },
    {
      "cell_type": "code",
      "metadata": {
        "id": "akK3-pokMswx"
      },
      "source": [
        "# close the db\n",
        "CONN.close()"
      ],
      "execution_count": null,
      "outputs": []
    }
  ]
}